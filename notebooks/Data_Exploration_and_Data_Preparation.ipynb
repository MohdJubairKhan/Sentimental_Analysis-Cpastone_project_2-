{
 "cells": [
  {
   "cell_type": "markdown",
   "id": "6d703d66-d7c8-42d6-8f8f-c38e04f3fc8f",
   "metadata": {},
   "source": [
    "# Import libraries"
   ]
  },
  {
   "cell_type": "code",
   "execution_count": 1,
   "id": "c783c956-ded0-4b5c-9ac3-5181e55d3d4f",
   "metadata": {},
   "outputs": [],
   "source": [
    "import pandas as pd\n",
    "import numpy as np\n",
    "import matplotlib.pyplot as plt\n",
    "import seaborn as sns\n",
    "import warnings\n",
    "warnings.filterwarnings('ignore')"
   ]
  },
  {
   "cell_type": "markdown",
   "id": "0904b96e-e12e-45dc-bc5f-e9f52269155b",
   "metadata": {},
   "source": [
    "# Load the Dataset"
   ]
  },
  {
   "cell_type": "markdown",
   "id": "7adc619f-7450-4138-9e6b-42961cf30d26",
   "metadata": {},
   "source": [
    "## Upload train_data "
   ]
  },
  {
   "cell_type": "code",
   "execution_count": 2,
   "id": "72afc8c0-b4ca-44e6-8371-6134d11179da",
   "metadata": {},
   "outputs": [
    {
     "data": {
      "text/html": [
       "<div>\n",
       "<style scoped>\n",
       "    .dataframe tbody tr th:only-of-type {\n",
       "        vertical-align: middle;\n",
       "    }\n",
       "\n",
       "    .dataframe tbody tr th {\n",
       "        vertical-align: top;\n",
       "    }\n",
       "\n",
       "    .dataframe thead th {\n",
       "        text-align: right;\n",
       "    }\n",
       "</style>\n",
       "<table border=\"1\" class=\"dataframe\">\n",
       "  <thead>\n",
       "    <tr style=\"text-align: right;\">\n",
       "      <th></th>\n",
       "      <th>Name of the product</th>\n",
       "      <th>Product Brand</th>\n",
       "      <th>categories</th>\n",
       "      <th>primaryCategories</th>\n",
       "      <th>reviews.date</th>\n",
       "      <th>reviews.text</th>\n",
       "      <th>reviews.title</th>\n",
       "      <th>sentiment</th>\n",
       "    </tr>\n",
       "  </thead>\n",
       "  <tbody>\n",
       "    <tr>\n",
       "      <th>0</th>\n",
       "      <td>All-New Fire HD 8 Tablet, 8\" HD Display, Wi-Fi...</td>\n",
       "      <td>Amazon</td>\n",
       "      <td>Electronics,iPad &amp; Tablets,All Tablets,Fire Ta...</td>\n",
       "      <td>Electronics</td>\n",
       "      <td>2016-12-26T00:00:00.000Z</td>\n",
       "      <td>Purchased on Black FridayPros - Great Price (e...</td>\n",
       "      <td>Powerful tablet</td>\n",
       "      <td>Positive</td>\n",
       "    </tr>\n",
       "    <tr>\n",
       "      <th>1</th>\n",
       "      <td>Amazon - Echo Plus w/ Built-In Hub - Silver</td>\n",
       "      <td>Amazon</td>\n",
       "      <td>Amazon Echo,Smart Home,Networking,Home &amp; Tools...</td>\n",
       "      <td>Electronics,Hardware</td>\n",
       "      <td>2018-01-17T00:00:00.000Z</td>\n",
       "      <td>I purchased two Amazon in Echo Plus and two do...</td>\n",
       "      <td>Amazon Echo Plus AWESOME</td>\n",
       "      <td>Positive</td>\n",
       "    </tr>\n",
       "    <tr>\n",
       "      <th>2</th>\n",
       "      <td>Amazon Echo Show Alexa-enabled Bluetooth Speak...</td>\n",
       "      <td>Amazon</td>\n",
       "      <td>Amazon Echo,Virtual Assistant Speakers,Electro...</td>\n",
       "      <td>Electronics,Hardware</td>\n",
       "      <td>2017-12-20T00:00:00.000Z</td>\n",
       "      <td>Just an average Alexa option. Does show a few ...</td>\n",
       "      <td>Average</td>\n",
       "      <td>Neutral</td>\n",
       "    </tr>\n",
       "    <tr>\n",
       "      <th>3</th>\n",
       "      <td>Fire HD 10 Tablet, 10.1 HD Display, Wi-Fi, 16 ...</td>\n",
       "      <td>Amazon</td>\n",
       "      <td>eBook Readers,Fire Tablets,Electronics Feature...</td>\n",
       "      <td>Office Supplies,Electronics</td>\n",
       "      <td>2017-08-04T00:00:00.000Z</td>\n",
       "      <td>very good product. Exactly what I wanted, and ...</td>\n",
       "      <td>Greattttttt</td>\n",
       "      <td>Positive</td>\n",
       "    </tr>\n",
       "    <tr>\n",
       "      <th>4</th>\n",
       "      <td>Brand New Amazon Kindle Fire 16gb 7\" Ips Displ...</td>\n",
       "      <td>Amazon</td>\n",
       "      <td>Computers/Tablets &amp; Networking,Tablets &amp; eBook...</td>\n",
       "      <td>Electronics</td>\n",
       "      <td>2017-01-23T00:00:00.000Z</td>\n",
       "      <td>This is the 3rd one I've purchased. I've bough...</td>\n",
       "      <td>Very durable!</td>\n",
       "      <td>Positive</td>\n",
       "    </tr>\n",
       "  </tbody>\n",
       "</table>\n",
       "</div>"
      ],
      "text/plain": [
       "                                 Name of the product Product Brand  \\\n",
       "0  All-New Fire HD 8 Tablet, 8\" HD Display, Wi-Fi...        Amazon   \n",
       "1        Amazon - Echo Plus w/ Built-In Hub - Silver        Amazon   \n",
       "2  Amazon Echo Show Alexa-enabled Bluetooth Speak...        Amazon   \n",
       "3  Fire HD 10 Tablet, 10.1 HD Display, Wi-Fi, 16 ...        Amazon   \n",
       "4  Brand New Amazon Kindle Fire 16gb 7\" Ips Displ...        Amazon   \n",
       "\n",
       "                                          categories  \\\n",
       "0  Electronics,iPad & Tablets,All Tablets,Fire Ta...   \n",
       "1  Amazon Echo,Smart Home,Networking,Home & Tools...   \n",
       "2  Amazon Echo,Virtual Assistant Speakers,Electro...   \n",
       "3  eBook Readers,Fire Tablets,Electronics Feature...   \n",
       "4  Computers/Tablets & Networking,Tablets & eBook...   \n",
       "\n",
       "             primaryCategories              reviews.date  \\\n",
       "0                  Electronics  2016-12-26T00:00:00.000Z   \n",
       "1         Electronics,Hardware  2018-01-17T00:00:00.000Z   \n",
       "2         Electronics,Hardware  2017-12-20T00:00:00.000Z   \n",
       "3  Office Supplies,Electronics  2017-08-04T00:00:00.000Z   \n",
       "4                  Electronics  2017-01-23T00:00:00.000Z   \n",
       "\n",
       "                                        reviews.text  \\\n",
       "0  Purchased on Black FridayPros - Great Price (e...   \n",
       "1  I purchased two Amazon in Echo Plus and two do...   \n",
       "2  Just an average Alexa option. Does show a few ...   \n",
       "3  very good product. Exactly what I wanted, and ...   \n",
       "4  This is the 3rd one I've purchased. I've bough...   \n",
       "\n",
       "              reviews.title sentiment  \n",
       "0           Powerful tablet  Positive  \n",
       "1  Amazon Echo Plus AWESOME  Positive  \n",
       "2                   Average   Neutral  \n",
       "3               Greattttttt  Positive  \n",
       "4             Very durable!  Positive  "
      ]
     },
     "execution_count": 2,
     "metadata": {},
     "output_type": "execute_result"
    }
   ],
   "source": [
    "train_data = pd.read_csv(r'C:\\Users\\zubair_khan\\Desktop\\Data_Science\\Projects\\Capstone-Project-2-digi-chrome\\data\\train_data.csv')\n",
    "train_data.head()"
   ]
  },
  {
   "cell_type": "code",
   "execution_count": 3,
   "id": "c1bc460c-7b8c-4d46-b8fc-517915bf313d",
   "metadata": {},
   "outputs": [
    {
     "data": {
      "text/plain": [
       "(4000, 8)"
      ]
     },
     "execution_count": 3,
     "metadata": {},
     "output_type": "execute_result"
    }
   ],
   "source": [
    "train_data.shape"
   ]
  },
  {
   "cell_type": "code",
   "execution_count": 4,
   "id": "53c8835b-0fc7-4a30-9948-dd1bc3977756",
   "metadata": {},
   "outputs": [
    {
     "data": {
      "text/plain": [
       "Index(['Name of the product', 'Product Brand', 'categories',\n",
       "       'primaryCategories', 'reviews.date', 'reviews.text', 'reviews.title',\n",
       "       'sentiment'],\n",
       "      dtype='object')"
      ]
     },
     "execution_count": 4,
     "metadata": {},
     "output_type": "execute_result"
    }
   ],
   "source": [
    "train_data.columns"
   ]
  },
  {
   "cell_type": "code",
   "execution_count": 5,
   "id": "470850a6-5c14-4ede-9c89-654782adde3c",
   "metadata": {},
   "outputs": [
    {
     "name": "stdout",
     "output_type": "stream",
     "text": [
      "<class 'pandas.core.frame.DataFrame'>\n",
      "RangeIndex: 4000 entries, 0 to 3999\n",
      "Data columns (total 8 columns):\n",
      " #   Column               Non-Null Count  Dtype \n",
      "---  ------               --------------  ----- \n",
      " 0   Name of the product  4000 non-null   object\n",
      " 1   Product Brand        4000 non-null   object\n",
      " 2   categories           4000 non-null   object\n",
      " 3   primaryCategories    4000 non-null   object\n",
      " 4   reviews.date         4000 non-null   object\n",
      " 5   reviews.text         4000 non-null   object\n",
      " 6   reviews.title        3990 non-null   object\n",
      " 7   sentiment            4000 non-null   object\n",
      "dtypes: object(8)\n",
      "memory usage: 250.1+ KB\n"
     ]
    }
   ],
   "source": [
    "train_data.info()"
   ]
  },
  {
   "cell_type": "code",
   "execution_count": 6,
   "id": "d148c21d-7527-4ec8-b2ce-f6dd180eb3af",
   "metadata": {},
   "outputs": [
    {
     "data": {
      "text/plain": [
       "Name of the product     0\n",
       "Product Brand           0\n",
       "categories              0\n",
       "primaryCategories       0\n",
       "reviews.date            0\n",
       "reviews.text            0\n",
       "reviews.title          10\n",
       "sentiment               0\n",
       "dtype: int64"
      ]
     },
     "execution_count": 6,
     "metadata": {},
     "output_type": "execute_result"
    }
   ],
   "source": [
    "train_data.isnull().sum()"
   ]
  },
  {
   "cell_type": "code",
   "execution_count": 7,
   "id": "d14866d1-5978-4864-97f1-1c27ecaa6781",
   "metadata": {},
   "outputs": [],
   "source": [
    "train_data = train_data.dropna(subset=['reviews.title'])"
   ]
  },
  {
   "cell_type": "markdown",
   "id": "e758fc7a-818f-4bb0-9f94-c701623c6076",
   "metadata": {},
   "source": [
    "## upload test_data"
   ]
  },
  {
   "cell_type": "code",
   "execution_count": 8,
   "id": "f4626da5-78f5-4fdf-9508-50cacd89216f",
   "metadata": {},
   "outputs": [
    {
     "data": {
      "text/html": [
       "<div>\n",
       "<style scoped>\n",
       "    .dataframe tbody tr th:only-of-type {\n",
       "        vertical-align: middle;\n",
       "    }\n",
       "\n",
       "    .dataframe tbody tr th {\n",
       "        vertical-align: top;\n",
       "    }\n",
       "\n",
       "    .dataframe thead th {\n",
       "        text-align: right;\n",
       "    }\n",
       "</style>\n",
       "<table border=\"1\" class=\"dataframe\">\n",
       "  <thead>\n",
       "    <tr style=\"text-align: right;\">\n",
       "      <th></th>\n",
       "      <th>Name of the product</th>\n",
       "      <th>Product Brand</th>\n",
       "      <th>categories</th>\n",
       "      <th>primaryCategories</th>\n",
       "      <th>reviews.date</th>\n",
       "      <th>reviews.text</th>\n",
       "      <th>reviews.title</th>\n",
       "    </tr>\n",
       "  </thead>\n",
       "  <tbody>\n",
       "    <tr>\n",
       "      <th>0</th>\n",
       "      <td>Fire Tablet, 7 Display, Wi-Fi, 16 GB - Include...</td>\n",
       "      <td>Amazon</td>\n",
       "      <td>Fire Tablets,Computers/Tablets &amp; Networking,Ta...</td>\n",
       "      <td>Electronics</td>\n",
       "      <td>2016-05-23T00:00:00.000Z</td>\n",
       "      <td>Amazon kindle fire has a lot of free app and c...</td>\n",
       "      <td>very handy device</td>\n",
       "    </tr>\n",
       "    <tr>\n",
       "      <th>1</th>\n",
       "      <td>Amazon Echo Show Alexa-enabled Bluetooth Speak...</td>\n",
       "      <td>Amazon</td>\n",
       "      <td>Computers,Amazon Echo,Virtual Assistant Speake...</td>\n",
       "      <td>Electronics,Hardware</td>\n",
       "      <td>2018-01-02T00:00:00.000Z</td>\n",
       "      <td>The Echo Show is a great addition to the Amazo...</td>\n",
       "      <td>Another winner from Amazon</td>\n",
       "    </tr>\n",
       "    <tr>\n",
       "      <th>2</th>\n",
       "      <td>All-New Fire HD 8 Tablet, 8\" HD Display, Wi-Fi...</td>\n",
       "      <td>Amazon</td>\n",
       "      <td>Electronics,iPad &amp; Tablets,All Tablets,Fire Ta...</td>\n",
       "      <td>Electronics</td>\n",
       "      <td>2017-01-02T00:00:00.000Z</td>\n",
       "      <td>Great value from Best Buy. Bought at Christmas...</td>\n",
       "      <td>simple to use and reliable so far</td>\n",
       "    </tr>\n",
       "    <tr>\n",
       "      <th>3</th>\n",
       "      <td>Brand New Amazon Kindle Fire 16gb 7\" Ips Displ...</td>\n",
       "      <td>Amazon</td>\n",
       "      <td>Computers/Tablets &amp; Networking,Tablets &amp; eBook...</td>\n",
       "      <td>Electronics</td>\n",
       "      <td>2017-03-25T00:00:00.000Z</td>\n",
       "      <td>I use mine for email, Facebook ,games and to g...</td>\n",
       "      <td>Love it!!!</td>\n",
       "    </tr>\n",
       "    <tr>\n",
       "      <th>4</th>\n",
       "      <td>Amazon Echo Show Alexa-enabled Bluetooth Speak...</td>\n",
       "      <td>Amazon</td>\n",
       "      <td>Computers,Amazon Echo,Virtual Assistant Speake...</td>\n",
       "      <td>Electronics,Hardware</td>\n",
       "      <td>2017-11-15T00:00:00.000Z</td>\n",
       "      <td>This is a fantastic item &amp; the person I bought...</td>\n",
       "      <td>Fantastic!</td>\n",
       "    </tr>\n",
       "  </tbody>\n",
       "</table>\n",
       "</div>"
      ],
      "text/plain": [
       "                                 Name of the product Product Brand  \\\n",
       "0  Fire Tablet, 7 Display, Wi-Fi, 16 GB - Include...        Amazon   \n",
       "1  Amazon Echo Show Alexa-enabled Bluetooth Speak...        Amazon   \n",
       "2  All-New Fire HD 8 Tablet, 8\" HD Display, Wi-Fi...        Amazon   \n",
       "3  Brand New Amazon Kindle Fire 16gb 7\" Ips Displ...        Amazon   \n",
       "4  Amazon Echo Show Alexa-enabled Bluetooth Speak...        Amazon   \n",
       "\n",
       "                                          categories     primaryCategories  \\\n",
       "0  Fire Tablets,Computers/Tablets & Networking,Ta...           Electronics   \n",
       "1  Computers,Amazon Echo,Virtual Assistant Speake...  Electronics,Hardware   \n",
       "2  Electronics,iPad & Tablets,All Tablets,Fire Ta...           Electronics   \n",
       "3  Computers/Tablets & Networking,Tablets & eBook...           Electronics   \n",
       "4  Computers,Amazon Echo,Virtual Assistant Speake...  Electronics,Hardware   \n",
       "\n",
       "               reviews.date  \\\n",
       "0  2016-05-23T00:00:00.000Z   \n",
       "1  2018-01-02T00:00:00.000Z   \n",
       "2  2017-01-02T00:00:00.000Z   \n",
       "3  2017-03-25T00:00:00.000Z   \n",
       "4  2017-11-15T00:00:00.000Z   \n",
       "\n",
       "                                        reviews.text  \\\n",
       "0  Amazon kindle fire has a lot of free app and c...   \n",
       "1  The Echo Show is a great addition to the Amazo...   \n",
       "2  Great value from Best Buy. Bought at Christmas...   \n",
       "3  I use mine for email, Facebook ,games and to g...   \n",
       "4  This is a fantastic item & the person I bought...   \n",
       "\n",
       "                       reviews.title  \n",
       "0                  very handy device  \n",
       "1         Another winner from Amazon  \n",
       "2  simple to use and reliable so far  \n",
       "3                         Love it!!!  \n",
       "4                         Fantastic!  "
      ]
     },
     "execution_count": 8,
     "metadata": {},
     "output_type": "execute_result"
    }
   ],
   "source": [
    "test_data = pd.read_csv(r'C:\\Users\\zubair_khan\\Desktop\\Data_Science\\Projects\\Capstone-Project-2-digi-chrome\\data\\test_data.csv')\n",
    "test_data.head()"
   ]
  },
  {
   "cell_type": "code",
   "execution_count": 9,
   "id": "7557a66b-cf9d-4f02-8030-c7203d095cda",
   "metadata": {},
   "outputs": [
    {
     "data": {
      "text/plain": [
       "(1000, 7)"
      ]
     },
     "execution_count": 9,
     "metadata": {},
     "output_type": "execute_result"
    }
   ],
   "source": [
    "test_data.shape"
   ]
  },
  {
   "cell_type": "code",
   "execution_count": 10,
   "id": "01b62411-d3ff-41ec-a1fe-703530b95a35",
   "metadata": {},
   "outputs": [
    {
     "data": {
      "text/plain": [
       "Index(['Name of the product', 'Product Brand', 'categories',\n",
       "       'primaryCategories', 'reviews.date', 'reviews.text', 'reviews.title'],\n",
       "      dtype='object')"
      ]
     },
     "execution_count": 10,
     "metadata": {},
     "output_type": "execute_result"
    }
   ],
   "source": [
    "test_data.columns"
   ]
  },
  {
   "cell_type": "code",
   "execution_count": 11,
   "id": "ab331858-3fba-4b42-b659-a88519b6d6c0",
   "metadata": {},
   "outputs": [
    {
     "name": "stdout",
     "output_type": "stream",
     "text": [
      "<class 'pandas.core.frame.DataFrame'>\n",
      "RangeIndex: 1000 entries, 0 to 999\n",
      "Data columns (total 7 columns):\n",
      " #   Column               Non-Null Count  Dtype \n",
      "---  ------               --------------  ----- \n",
      " 0   Name of the product  1000 non-null   object\n",
      " 1   Product Brand        1000 non-null   object\n",
      " 2   categories           1000 non-null   object\n",
      " 3   primaryCategories    1000 non-null   object\n",
      " 4   reviews.date         1000 non-null   object\n",
      " 5   reviews.text         1000 non-null   object\n",
      " 6   reviews.title        997 non-null    object\n",
      "dtypes: object(7)\n",
      "memory usage: 54.8+ KB\n"
     ]
    }
   ],
   "source": [
    "test_data.info()"
   ]
  },
  {
   "cell_type": "code",
   "execution_count": 12,
   "id": "63af8d08-b265-491b-bf2f-13d64812d1c4",
   "metadata": {},
   "outputs": [
    {
     "data": {
      "text/plain": [
       "Name of the product    0\n",
       "Product Brand          0\n",
       "categories             0\n",
       "primaryCategories      0\n",
       "reviews.date           0\n",
       "reviews.text           0\n",
       "reviews.title          3\n",
       "dtype: int64"
      ]
     },
     "execution_count": 12,
     "metadata": {},
     "output_type": "execute_result"
    }
   ],
   "source": [
    "test_data.isnull().sum()"
   ]
  },
  {
   "cell_type": "code",
   "execution_count": 13,
   "id": "98684c48-8125-4299-abe0-ea163fa68737",
   "metadata": {},
   "outputs": [],
   "source": [
    "test_data = test_data.dropna(subset=['reviews.title'])"
   ]
  },
  {
   "cell_type": "markdown",
   "id": "c04cb73d-2d4f-4f59-85ba-e41e27cc170d",
   "metadata": {},
   "source": [
    "## upload test_data_hidden"
   ]
  },
  {
   "cell_type": "code",
   "execution_count": 14,
   "id": "6fab5ba9-f301-4c42-b0b7-1d9746e142dc",
   "metadata": {},
   "outputs": [
    {
     "data": {
      "text/html": [
       "<div>\n",
       "<style scoped>\n",
       "    .dataframe tbody tr th:only-of-type {\n",
       "        vertical-align: middle;\n",
       "    }\n",
       "\n",
       "    .dataframe tbody tr th {\n",
       "        vertical-align: top;\n",
       "    }\n",
       "\n",
       "    .dataframe thead th {\n",
       "        text-align: right;\n",
       "    }\n",
       "</style>\n",
       "<table border=\"1\" class=\"dataframe\">\n",
       "  <thead>\n",
       "    <tr style=\"text-align: right;\">\n",
       "      <th></th>\n",
       "      <th>Name of the product</th>\n",
       "      <th>Product Brand</th>\n",
       "      <th>categories</th>\n",
       "      <th>primaryCategories</th>\n",
       "      <th>reviews.date</th>\n",
       "      <th>reviews.text</th>\n",
       "      <th>reviews.title</th>\n",
       "      <th>sentiment</th>\n",
       "    </tr>\n",
       "  </thead>\n",
       "  <tbody>\n",
       "    <tr>\n",
       "      <th>0</th>\n",
       "      <td>Fire Tablet, 7 Display, Wi-Fi, 16 GB - Include...</td>\n",
       "      <td>Amazon</td>\n",
       "      <td>Fire Tablets,Computers/Tablets &amp; Networking,Ta...</td>\n",
       "      <td>Electronics</td>\n",
       "      <td>2016-05-23T00:00:00.000Z</td>\n",
       "      <td>Amazon kindle fire has a lot of free app and c...</td>\n",
       "      <td>very handy device</td>\n",
       "      <td>Positive</td>\n",
       "    </tr>\n",
       "    <tr>\n",
       "      <th>1</th>\n",
       "      <td>Amazon Echo Show Alexa-enabled Bluetooth Speak...</td>\n",
       "      <td>Amazon</td>\n",
       "      <td>Computers,Amazon Echo,Virtual Assistant Speake...</td>\n",
       "      <td>Electronics,Hardware</td>\n",
       "      <td>2018-01-02T00:00:00.000Z</td>\n",
       "      <td>The Echo Show is a great addition to the Amazo...</td>\n",
       "      <td>Another winner from Amazon</td>\n",
       "      <td>Positive</td>\n",
       "    </tr>\n",
       "    <tr>\n",
       "      <th>2</th>\n",
       "      <td>All-New Fire HD 8 Tablet, 8\" HD Display, Wi-Fi...</td>\n",
       "      <td>Amazon</td>\n",
       "      <td>Electronics,iPad &amp; Tablets,All Tablets,Fire Ta...</td>\n",
       "      <td>Electronics</td>\n",
       "      <td>2017-01-02T00:00:00.000Z</td>\n",
       "      <td>Great value from Best Buy. Bought at Christmas...</td>\n",
       "      <td>simple to use and reliable so far</td>\n",
       "      <td>Positive</td>\n",
       "    </tr>\n",
       "    <tr>\n",
       "      <th>3</th>\n",
       "      <td>Brand New Amazon Kindle Fire 16gb 7\" Ips Displ...</td>\n",
       "      <td>Amazon</td>\n",
       "      <td>Computers/Tablets &amp; Networking,Tablets &amp; eBook...</td>\n",
       "      <td>Electronics</td>\n",
       "      <td>2017-03-25T00:00:00.000Z</td>\n",
       "      <td>I use mine for email, Facebook ,games and to g...</td>\n",
       "      <td>Love it!!!</td>\n",
       "      <td>Positive</td>\n",
       "    </tr>\n",
       "    <tr>\n",
       "      <th>4</th>\n",
       "      <td>Amazon Echo Show Alexa-enabled Bluetooth Speak...</td>\n",
       "      <td>Amazon</td>\n",
       "      <td>Computers,Amazon Echo,Virtual Assistant Speake...</td>\n",
       "      <td>Electronics,Hardware</td>\n",
       "      <td>2017-11-15T00:00:00.000Z</td>\n",
       "      <td>This is a fantastic item &amp; the person I bought...</td>\n",
       "      <td>Fantastic!</td>\n",
       "      <td>Positive</td>\n",
       "    </tr>\n",
       "  </tbody>\n",
       "</table>\n",
       "</div>"
      ],
      "text/plain": [
       "                                 Name of the product Product Brand  \\\n",
       "0  Fire Tablet, 7 Display, Wi-Fi, 16 GB - Include...        Amazon   \n",
       "1  Amazon Echo Show Alexa-enabled Bluetooth Speak...        Amazon   \n",
       "2  All-New Fire HD 8 Tablet, 8\" HD Display, Wi-Fi...        Amazon   \n",
       "3  Brand New Amazon Kindle Fire 16gb 7\" Ips Displ...        Amazon   \n",
       "4  Amazon Echo Show Alexa-enabled Bluetooth Speak...        Amazon   \n",
       "\n",
       "                                          categories     primaryCategories  \\\n",
       "0  Fire Tablets,Computers/Tablets & Networking,Ta...           Electronics   \n",
       "1  Computers,Amazon Echo,Virtual Assistant Speake...  Electronics,Hardware   \n",
       "2  Electronics,iPad & Tablets,All Tablets,Fire Ta...           Electronics   \n",
       "3  Computers/Tablets & Networking,Tablets & eBook...           Electronics   \n",
       "4  Computers,Amazon Echo,Virtual Assistant Speake...  Electronics,Hardware   \n",
       "\n",
       "               reviews.date  \\\n",
       "0  2016-05-23T00:00:00.000Z   \n",
       "1  2018-01-02T00:00:00.000Z   \n",
       "2  2017-01-02T00:00:00.000Z   \n",
       "3  2017-03-25T00:00:00.000Z   \n",
       "4  2017-11-15T00:00:00.000Z   \n",
       "\n",
       "                                        reviews.text  \\\n",
       "0  Amazon kindle fire has a lot of free app and c...   \n",
       "1  The Echo Show is a great addition to the Amazo...   \n",
       "2  Great value from Best Buy. Bought at Christmas...   \n",
       "3  I use mine for email, Facebook ,games and to g...   \n",
       "4  This is a fantastic item & the person I bought...   \n",
       "\n",
       "                       reviews.title sentiment  \n",
       "0                  very handy device  Positive  \n",
       "1         Another winner from Amazon  Positive  \n",
       "2  simple to use and reliable so far  Positive  \n",
       "3                         Love it!!!  Positive  \n",
       "4                         Fantastic!  Positive  "
      ]
     },
     "execution_count": 14,
     "metadata": {},
     "output_type": "execute_result"
    }
   ],
   "source": [
    "test_data_hidden = pd.read_csv(r'C:\\Users\\zubair_khan\\Desktop\\Data_Science\\Projects\\Capstone-Project-2-digi-chrome\\data\\test_data_hidden.csv')\n",
    "test_data_hidden.head()"
   ]
  },
  {
   "cell_type": "code",
   "execution_count": 15,
   "id": "7460ad49-d912-4b64-9d71-5c147b9ad7af",
   "metadata": {},
   "outputs": [
    {
     "data": {
      "text/plain": [
       "(1000, 8)"
      ]
     },
     "execution_count": 15,
     "metadata": {},
     "output_type": "execute_result"
    }
   ],
   "source": [
    "test_data_hidden.shape"
   ]
  },
  {
   "cell_type": "code",
   "execution_count": 16,
   "id": "2faf5f4b-b3d6-4863-a509-4b48c1327c5c",
   "metadata": {},
   "outputs": [
    {
     "data": {
      "text/plain": [
       "Index(['Name of the product', 'Product Brand', 'categories',\n",
       "       'primaryCategories', 'reviews.date', 'reviews.text', 'reviews.title',\n",
       "       'sentiment'],\n",
       "      dtype='object')"
      ]
     },
     "execution_count": 16,
     "metadata": {},
     "output_type": "execute_result"
    }
   ],
   "source": [
    "test_data_hidden.columns"
   ]
  },
  {
   "cell_type": "code",
   "execution_count": 17,
   "id": "0eede8b9-edb9-4f8a-ade0-5f653120855c",
   "metadata": {},
   "outputs": [
    {
     "name": "stdout",
     "output_type": "stream",
     "text": [
      "<class 'pandas.core.frame.DataFrame'>\n",
      "RangeIndex: 1000 entries, 0 to 999\n",
      "Data columns (total 8 columns):\n",
      " #   Column               Non-Null Count  Dtype \n",
      "---  ------               --------------  ----- \n",
      " 0   Name of the product  1000 non-null   object\n",
      " 1   Product Brand        1000 non-null   object\n",
      " 2   categories           1000 non-null   object\n",
      " 3   primaryCategories    1000 non-null   object\n",
      " 4   reviews.date         1000 non-null   object\n",
      " 5   reviews.text         1000 non-null   object\n",
      " 6   reviews.title        997 non-null    object\n",
      " 7   sentiment            1000 non-null   object\n",
      "dtypes: object(8)\n",
      "memory usage: 62.6+ KB\n"
     ]
    }
   ],
   "source": [
    "test_data_hidden.info()"
   ]
  },
  {
   "cell_type": "code",
   "execution_count": 18,
   "id": "af008787-17dd-482d-a2fb-7a44ed486767",
   "metadata": {},
   "outputs": [
    {
     "data": {
      "text/plain": [
       "Name of the product    0\n",
       "Product Brand          0\n",
       "categories             0\n",
       "primaryCategories      0\n",
       "reviews.date           0\n",
       "reviews.text           0\n",
       "reviews.title          3\n",
       "sentiment              0\n",
       "dtype: int64"
      ]
     },
     "execution_count": 18,
     "metadata": {},
     "output_type": "execute_result"
    }
   ],
   "source": [
    "test_data_hidden.isnull().sum()"
   ]
  },
  {
   "cell_type": "code",
   "execution_count": 19,
   "id": "2d9a13c3-1b93-4408-9453-061a05c2d609",
   "metadata": {},
   "outputs": [],
   "source": [
    "test_data_hidden = test_data_hidden.dropna(subset=['reviews.title'])"
   ]
  },
  {
   "cell_type": "markdown",
   "id": "7733b8de-a640-4376-9019-d799bc1414fc",
   "metadata": {},
   "source": [
    "## Save the cleaned data in scv format"
   ]
  },
  {
   "cell_type": "code",
   "execution_count": 22,
   "id": "16daefa9-ab7f-47bc-8c19-2127d2f17899",
   "metadata": {},
   "outputs": [],
   "source": [
    "train_data.to_csv(r'C:\\Users\\zubair_khan\\Desktop\\Data_Science\\Projects\\Capstone-Project-2-digi-chrome\\data\\cleaned_train_data.csv', index=False)\n",
    "test_data.to_csv(r'C:\\Users\\zubair_khan\\Desktop\\Data_Science\\Projects\\Capstone-Project-2-digi-chrome\\data\\cleaned_test_data.csv', index=False)\n",
    "test_data_hidden.to_csv(r'C:\\Users\\zubair_khan\\Desktop\\Data_Science\\Projects\\Capstone-Project-2-digi-chrome\\data\\cleaned_test_data_hidden.csv', index=False)"
   ]
  }
 ],
 "metadata": {
  "kernelspec": {
   "display_name": "Python 3 (ipykernel)",
   "language": "python",
   "name": "python3"
  },
  "language_info": {
   "codemirror_mode": {
    "name": "ipython",
    "version": 3
   },
   "file_extension": ".py",
   "mimetype": "text/x-python",
   "name": "python",
   "nbconvert_exporter": "python",
   "pygments_lexer": "ipython3",
   "version": "3.12.4"
  }
 },
 "nbformat": 4,
 "nbformat_minor": 5
}
