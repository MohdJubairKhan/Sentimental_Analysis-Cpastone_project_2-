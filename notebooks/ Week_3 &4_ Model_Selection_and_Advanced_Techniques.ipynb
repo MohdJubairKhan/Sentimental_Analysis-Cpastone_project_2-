{
 "cells": [
  {
   "cell_type": "markdown",
   "id": "a9263731-3a1a-4990-8f60-60c52a30aa34",
   "metadata": {},
   "source": [
    "# Import libraries"
   ]
  },
  {
   "cell_type": "code",
   "execution_count": 1,
   "id": "694009a2-dc65-472c-b944-eaf057a89396",
   "metadata": {},
   "outputs": [],
   "source": [
    "import pandas as pd\n",
    "import numpy as np\n",
    "import matplotlib.pyplot as plt\n",
    "import seaborn as sns\n",
    "import warnings\n",
    "warnings.filterwarnings('ignore')"
   ]
  },
  {
   "cell_type": "markdown",
   "id": "83e77178-a057-496c-b3b7-fba4560a8e8d",
   "metadata": {},
   "source": [
    "# Load the Dataset"
   ]
  },
  {
   "cell_type": "markdown",
   "id": "e4bf4653-b450-40bf-8f27-cd5db49bc50d",
   "metadata": {},
   "source": [
    "## Upload train_data,test_data , test_data_hidden & train_data_tfidf"
   ]
  },
  {
   "cell_type": "code",
   "execution_count": 3,
   "id": "6c103df5-72f6-4ac0-a74e-839b88ab2d92",
   "metadata": {},
   "outputs": [],
   "source": [
    "train_data = pd.read_csv(r'C:\\Users\\zubair_khan\\Desktop\\Data_Science\\Projects\\Capstone-Project-2-digi-chrome\\data\\cleaned_train_data.csv')\n",
    "test_data = pd.read_csv(r'C:\\Users\\zubair_khan\\Desktop\\Data_Science\\Projects\\Capstone-Project-2-digi-chrome\\data\\cleaned_test_data.csv')\n",
    "test_data_hidden = pd.read_csv(r'C:\\Users\\zubair_khan\\Desktop\\Data_Science\\Projects\\Capstone-Project-2-digi-chrome\\data\\cleaned_test_data_hidden.csv')\n",
    "train_data_tfidf = pd.read_csv(r'C:\\Users\\zubair_khan\\Desktop\\Data_Science\\Projects\\Capstone-Project-2-digi-chrome\\data\\train_data_with_tfidf.csv')"
   ]
  },
  {
   "cell_type": "code",
   "execution_count": null,
   "id": "9f5a35e0-e61d-43e4-a387-4cec7823b2c1",
   "metadata": {},
   "outputs": [],
   "source": []
  }
 ],
 "metadata": {
  "kernelspec": {
   "display_name": "Python 3 (ipykernel)",
   "language": "python",
   "name": "python3"
  },
  "language_info": {
   "codemirror_mode": {
    "name": "ipython",
    "version": 3
   },
   "file_extension": ".py",
   "mimetype": "text/x-python",
   "name": "python",
   "nbconvert_exporter": "python",
   "pygments_lexer": "ipython3",
   "version": "3.12.4"
  }
 },
 "nbformat": 4,
 "nbformat_minor": 5
}
